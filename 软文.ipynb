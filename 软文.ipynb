{
 "cells": [
  {
   "cell_type": "code",
   "id": "initial_id",
   "metadata": {
    "collapsed": true,
    "ExecuteTime": {
     "end_time": "2025-10-07T16:19:59.177249Z",
     "start_time": "2025-10-07T16:19:57.960778Z"
    }
   },
   "source": [
    "import matplotlib.pyplot as plt\n",
    "import seaborn as sns\n",
    "import pandas as pd\n",
    "from matplotlib.font_manager import font_family_aliases"
   ],
   "outputs": [],
   "execution_count": 1
  },
  {
   "metadata": {
    "ExecuteTime": {
     "end_time": "2025-10-07T16:21:09.914410Z",
     "start_time": "2025-10-07T16:21:09.905372Z"
    }
   },
   "cell_type": "code",
   "source": [
    "df_ads = pd.read_csv('软文.csv')\n",
    "df_ads.head()"
   ],
   "id": "309e956fa5416f93",
   "outputs": [
    {
     "data": {
      "text/plain": [
       "    点赞数     转发数  热度指数  文章评级     浏览数\n",
       "0  2646  1347.0     7     5  260004\n",
       "1   816   816.0     4     6  100004\n",
       "2  1224   612.0     6     5  164502\n",
       "3  1261  1541.0     6     6  163001\n",
       "4  1720  1720.0     7     5  260401"
      ],
      "text/html": [
       "<div>\n",
       "<style scoped>\n",
       "    .dataframe tbody tr th:only-of-type {\n",
       "        vertical-align: middle;\n",
       "    }\n",
       "\n",
       "    .dataframe tbody tr th {\n",
       "        vertical-align: top;\n",
       "    }\n",
       "\n",
       "    .dataframe thead th {\n",
       "        text-align: right;\n",
       "    }\n",
       "</style>\n",
       "<table border=\"1\" class=\"dataframe\">\n",
       "  <thead>\n",
       "    <tr style=\"text-align: right;\">\n",
       "      <th></th>\n",
       "      <th>点赞数</th>\n",
       "      <th>转发数</th>\n",
       "      <th>热度指数</th>\n",
       "      <th>文章评级</th>\n",
       "      <th>浏览数</th>\n",
       "    </tr>\n",
       "  </thead>\n",
       "  <tbody>\n",
       "    <tr>\n",
       "      <th>0</th>\n",
       "      <td>2646</td>\n",
       "      <td>1347.0</td>\n",
       "      <td>7</td>\n",
       "      <td>5</td>\n",
       "      <td>260004</td>\n",
       "    </tr>\n",
       "    <tr>\n",
       "      <th>1</th>\n",
       "      <td>816</td>\n",
       "      <td>816.0</td>\n",
       "      <td>4</td>\n",
       "      <td>6</td>\n",
       "      <td>100004</td>\n",
       "    </tr>\n",
       "    <tr>\n",
       "      <th>2</th>\n",
       "      <td>1224</td>\n",
       "      <td>612.0</td>\n",
       "      <td>6</td>\n",
       "      <td>5</td>\n",
       "      <td>164502</td>\n",
       "    </tr>\n",
       "    <tr>\n",
       "      <th>3</th>\n",
       "      <td>1261</td>\n",
       "      <td>1541.0</td>\n",
       "      <td>6</td>\n",
       "      <td>6</td>\n",
       "      <td>163001</td>\n",
       "    </tr>\n",
       "    <tr>\n",
       "      <th>4</th>\n",
       "      <td>1720</td>\n",
       "      <td>1720.0</td>\n",
       "      <td>7</td>\n",
       "      <td>5</td>\n",
       "      <td>260401</td>\n",
       "    </tr>\n",
       "  </tbody>\n",
       "</table>\n",
       "</div>"
      ]
     },
     "execution_count": 4,
     "metadata": {},
     "output_type": "execute_result"
    }
   ],
   "execution_count": 4
  },
  {
   "metadata": {
    "ExecuteTime": {
     "end_time": "2025-10-07T16:33:09.245994Z",
     "start_time": "2025-10-07T16:33:09.141665Z"
    }
   },
   "cell_type": "code",
   "source": [
    "plt.plot(df_ads['点赞数'], df_ads['浏览数'], 'r.', label='Training data')\n",
    "plt.xlabel('点赞数')\n",
    "plt.ylabel('浏览数')\n",
    "plt.legend()\n"
   ],
   "id": "5817de42998c365b",
   "outputs": [
    {
     "data": {
      "text/plain": [
       "<matplotlib.legend.Legend at 0x7ca39a724fb0>"
      ]
     },
     "execution_count": 15,
     "metadata": {},
     "output_type": "execute_result"
    },
    {
     "data": {
      "text/plain": [
       "<Figure size 640x480 with 1 Axes>"
      ],
      "image/png": "[encoded data removed]"
     },
     "metadata": {},
     "output_type": "display_data"
    }
   ],
   "execution_count": 15
  },
  {
   "metadata": {
    "ExecuteTime": {
     "end_time": "2025-10-07T16:38:00.710893Z",
     "start_time": "2025-10-07T16:38:00.600935Z"
    }
   },
   "cell_type": "code",
   "source": [
    "data = pd.concat([df_ads['浏览数'], df_ads['热度指数']], axis=1)\n",
    "fig = sns.boxplot(x='热度指数', y='浏览数', data=data)\n",
    "fig.axis(ymin=0, ymax=8000000)"
   ],
   "id": "39f2602517e64638",
   "outputs": [
    {
     "data": {
      "text/plain": [
       "(np.float64(-0.5), np.float64(4.5), np.float64(0.0), np.float64(8000000.0))"
      ]
     },
     "execution_count": 17,
     "metadata": {},
     "output_type": "execute_result"
    },
    {
     "name": "stderr",
     "output_type": "stream",
     "text": [
      "/home/hejin/app/github/jupyter-notebook/.venv/lib/python3.12/site-packages/IPython/core/events.py:82: UserWarning: Glyph 28909 (\\N{CJK UNIFIED IDEOGRAPH-70ED}) missing from font(s) DejaVu Sans.\n",
      "  func(*args, **kwargs)\n",
      "/home/hejin/app/github/jupyter-notebook/.venv/lib/python3.12/site-packages/IPython/core/events.py:82: UserWarning: Glyph 24230 (\\N{CJK UNIFIED IDEOGRAPH-5EA6}) missing from font(s) DejaVu Sans.\n",
      "  func(*args, **kwargs)\n",
      "/home/hejin/app/github/jupyter-notebook/.venv/lib/python3.12/site-packages/IPython/core/events.py:82: UserWarning: Glyph 25351 (\\N{CJK UNIFIED IDEOGRAPH-6307}) missing from font(s) DejaVu Sans.\n",
      "  func(*args, **kwargs)\n",
      "/home/hejin/app/github/jupyter-notebook/.venv/lib/python3.12/site-packages/IPython/core/events.py:82: UserWarning: Glyph 25968 (\\N{CJK UNIFIED IDEOGRAPH-6570}) missing from font(s) DejaVu Sans.\n",
      "  func(*args, **kwargs)\n",
      "/home/hejin/app/github/jupyter-notebook/.venv/lib/python3.12/site-packages/IPython/core/events.py:82: UserWarning: Glyph 27983 (\\N{CJK UNIFIED IDEOGRAPH-6D4F}) missing from font(s) DejaVu Sans.\n",
      "  func(*args, **kwargs)\n",
      "/home/hejin/app/github/jupyter-notebook/.venv/lib/python3.12/site-packages/IPython/core/events.py:82: UserWarning: Glyph 35272 (\\N{CJK UNIFIED IDEOGRAPH-89C8}) missing from font(s) DejaVu Sans.\n",
      "  func(*args, **kwargs)\n",
      "/home/hejin/app/github/jupyter-notebook/.venv/lib/python3.12/site-packages/IPython/core/pylabtools.py:170: UserWarning: Glyph 28909 (\\N{CJK UNIFIED IDEOGRAPH-70ED}) missing from font(s) DejaVu Sans.\n",
      "  fig.canvas.print_figure(bytes_io, **kw)\n",
      "/home/hejin/app/github/jupyter-notebook/.venv/lib/python3.12/site-packages/IPython/core/pylabtools.py:170: UserWarning: Glyph 24230 (\\N{CJK UNIFIED IDEOGRAPH-5EA6}) missing from font(s) DejaVu Sans.\n",
      "  fig.canvas.print_figure(bytes_io, **kw)\n",
      "/home/hejin/app/github/jupyter-notebook/.venv/lib/python3.12/site-packages/IPython/core/pylabtools.py:170: UserWarning: Glyph 25351 (\\N{CJK UNIFIED IDEOGRAPH-6307}) missing from font(s) DejaVu Sans.\n",
      "  fig.canvas.print_figure(bytes_io, **kw)\n",
      "/home/hejin/app/github/jupyter-notebook/.venv/lib/python3.12/site-packages/IPython/core/pylabtools.py:170: UserWarning: Glyph 25968 (\\N{CJK UNIFIED IDEOGRAPH-6570}) missing from font(s) DejaVu Sans.\n",
      "  fig.canvas.print_figure(bytes_io, **kw)\n",
      "/home/hejin/app/github/jupyter-notebook/.venv/lib/python3.12/site-packages/IPython/core/pylabtools.py:170: UserWarning: Glyph 27983 (\\N{CJK UNIFIED IDEOGRAPH-6D4F}) missing from font(s) DejaVu Sans.\n",
      "  fig.canvas.print_figure(bytes_io, **kw)\n",
      "/home/hejin/app/github/jupyter-notebook/.venv/lib/python3.12/site-packages/IPython/core/pylabtools.py:170: UserWarning: Glyph 35272 (\\N{CJK UNIFIED IDEOGRAPH-89C8}) missing from font(s) DejaVu Sans.\n",
      "  fig.canvas.print_figure(bytes_io, **kw)\n"
     ]
    },
    {
     "data": {
      "text/plain": [
       "<Figure size 640x480 with 1 Axes>"
      ],
      "image/png": "[encoded data removed]"
     },
     "metadata": {},
     "output_type": "display_data"
    }
   ],
   "execution_count": 17
  }
 ],
 "metadata": {
  "kernelspec": {
   "display_name": "Python 3",
   "language": "python",
   "name": "python3"
  },
  "language_info": {
   "codemirror_mode": {
    "name": "ipython",
    "version": 2
   },
   "file_extension": ".py",
   "mimetype": "text/x-python",
   "name": "python",
   "nbconvert_exporter": "python",
   "pygments_lexer": "ipython2",
   "version": "2.7.6"
  }
 },
 "nbformat": 4,
 "nbformat_minor": 5
}
