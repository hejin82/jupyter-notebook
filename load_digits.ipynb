{
 "cells": [
  {
   "cell_type": "code",
   "id": "initial_id",
   "metadata": {
    "collapsed": true,
    "ExecuteTime": {
     "end_time": "2025-10-07T11:29:57.669854Z",
     "start_time": "2025-10-07T11:29:56.734729Z"
    }
   },
   "source": [
    "import numpy as np\n",
    "import matplotlib as mpl\n",
    "import matplotlib.pyplot as plt\n",
    "from sklearn import datasets"
   ],
   "outputs": [],
   "execution_count": 1
  },
  {
   "metadata": {
    "ExecuteTime": {
     "end_time": "2025-10-07T11:31:09.946052Z",
     "start_time": "2025-10-07T11:31:09.933320Z"
    }
   },
   "cell_type": "code",
   "source": "digits = datasets.load_digits()",
   "id": "dfaf922dae6e571b",
   "outputs": [],
   "execution_count": 3
  },
  {
   "metadata": {
    "ExecuteTime": {
     "end_time": "2025-10-07T11:31:40.790385Z",
     "start_time": "2025-10-07T11:31:40.785723Z"
    }
   },
   "cell_type": "code",
   "source": "digits.keys()",
   "id": "1079e080004a16ff",
   "outputs": [
    {
     "data": {
      "text/plain": [
       "dict_keys(['data', 'target', 'frame', 'feature_names', 'target_names', 'images', 'DESCR'])"
      ]
     },
     "execution_count": 5,
     "metadata": {},
     "output_type": "execute_result"
    }
   ],
   "execution_count": 5
  },
  {
   "metadata": {
    "ExecuteTime": {
     "end_time": "2025-10-07T11:32:27.199982Z",
     "start_time": "2025-10-07T11:32:27.195948Z"
    }
   },
   "cell_type": "code",
   "source": "print(digits.DESCR)",
   "id": "bd7a5f1d41b5eb63",
   "outputs": [
    {
     "name": "stdout",
     "output_type": "stream",
     "text": [
      ".. _digits_dataset:\n",
      "\n",
      "Optical recognition of handwritten digits dataset\n",
      "--------------------------------------------------\n",
      "\n",
      "**Data Set Characteristics:**\n",
      "\n",
      ":Number of Instances: 1797\n",
      ":Number of Attributes: 64\n",
      ":Attribute Information: 8x8 image of integer pixels in the range 0..16.\n",
      ":Missing Attribute Values: None\n",
      ":Creator: E. Alpaydin (alpaydin '@' boun.edu.tr)\n",
      ":Date: July; 1998\n",
      "\n",
      "This is a copy of the test set of the UCI ML hand-written digits datasets\n",
      "https://archive.ics.uci.edu/ml/datasets/Optical+Recognition+of+Handwritten+Digits\n",
      "\n",
      "The data set contains images of hand-written digits: 10 classes where\n",
      "each class refers to a digit.\n",
      "\n",
      "Preprocessing programs made available by NIST were used to extract\n",
      "normalized bitmaps of handwritten digits from a preprinted form. From a\n",
      "total of 43 people, 30 contributed to the training set and different 13\n",
      "to the test set. 32x32 bitmaps are divided into nonoverlapping blocks of\n",
      "4x4 and the number of on pixels are counted in each block. This generates\n",
      "an input matrix of 8x8 where each element is an integer in the range\n",
      "0..16. This reduces dimensionality and gives invariance to small\n",
      "distortions.\n",
      "\n",
      "For info on NIST preprocessing routines, see M. D. Garris, J. L. Blue, G.\n",
      "T. Candela, D. L. Dimmick, J. Geist, P. J. Grother, S. A. Janet, and C.\n",
      "L. Wilson, NIST Form-Based Handprint Recognition System, NISTIR 5469,\n",
      "1994.\n",
      "\n",
      ".. dropdown:: References\n",
      "\n",
      "  - C. Kaynak (1995) Methods of Combining Multiple Classifiers and Their\n",
      "    Applications to Handwritten Digit Recognition, MSc Thesis, Institute of\n",
      "    Graduate Studies in Science and Engineering, Bogazici University.\n",
      "  - E. Alpaydin, C. Kaynak (1998) Cascading Classifiers, Kybernetika.\n",
      "  - Ken Tang and Ponnuthurai N. Suganthan and Xi Yao and A. Kai Qin.\n",
      "    Linear dimensionalityreduction using relevance weighted LDA. School of\n",
      "    Electrical and Electronic Engineering Nanyang Technological University.\n",
      "    2005.\n",
      "  - Claudio Gentile. A New Approximate Maximal Margin Classification\n",
      "    Algorithm. NIPS. 2000.\n",
      "\n"
     ]
    }
   ],
   "execution_count": 8
  },
  {
   "metadata": {
    "ExecuteTime": {
     "end_time": "2025-10-07T11:34:39.943243Z",
     "start_time": "2025-10-07T11:34:39.940063Z"
    }
   },
   "cell_type": "code",
   "source": [
    "x = digits.data\n",
    "y = digits.target"
   ],
   "id": "68a5ce7840641d79",
   "outputs": [],
   "execution_count": 10
  },
  {
   "metadata": {
    "ExecuteTime": {
     "end_time": "2025-10-07T11:39:52.712775Z",
     "start_time": "2025-10-07T11:39:52.628635Z"
    }
   },
   "cell_type": "code",
   "source": [
    "some_digit = x[666]\n",
    "some_digit_image = some_digit.reshape(8, 8)\n",
    "plt.imshow(some_digit_image, cmap=mpl.cm.get_cmap(\"binary\"))"
   ],
   "id": "e8737179bbc3cea2",
   "outputs": [
    {
     "name": "stderr",
     "output_type": "stream",
     "text": [
      "/tmp/ipykernel_78328/1941108416.py:3: MatplotlibDeprecationWarning: The get_cmap function was deprecated in Matplotlib 3.7 and will be removed in 3.11. Use ``matplotlib.colormaps[name]`` or ``matplotlib.colormaps.get_cmap()`` or ``pyplot.get_cmap()`` instead.\n",
      "  plt.imshow(some_digit_image, cmap=mpl.cm.get_cmap(\"binary\"))\n"
     ]
    },
    {
     "data": {
      "text/plain": [
       "<matplotlib.image.AxesImage at 0x72b4c3c05ca0>"
      ]
     },
     "execution_count": 15,
     "metadata": {},
     "output_type": "execute_result"
    },
    {
     "data": {
      "text/plain": [
       "<Figure size 640x480 with 1 Axes>"
      ],
      "image/png": "[encoded data removed]"
     },
     "metadata": {},
     "output_type": "display_data"
    }
   ],
   "execution_count": 15
  },
  {
   "metadata": {
    "ExecuteTime": {
     "end_time": "2025-10-07T11:40:35.440750Z",
     "start_time": "2025-10-07T11:40:35.436083Z"
    }
   },
   "cell_type": "code",
   "source": [
    "from sklearn.model_selection import train_test_split\n",
    "x_train, x_test, y_train, y_test = train_test_split(x, y, test_size=0.2)"
   ],
   "id": "65875a19906cbfc9",
   "outputs": [],
   "execution_count": 17
  },
  {
   "metadata": {
    "ExecuteTime": {
     "end_time": "2025-10-07T11:42:08.868505Z",
     "start_time": "2025-10-07T11:42:08.850375Z"
    }
   },
   "cell_type": "code",
   "source": [
    "from sklearn.neighbors import KNeighborsClassifier\n",
    "kNN_classify = KNeighborsClassifier(n_neighbors=6)\n",
    "kNN_classify.fit(x_train, y_train)\n",
    "predict = kNN_classify.predict(x_test)\n",
    "predict"
   ],
   "id": "5dfff45da1b8b01b",
   "outputs": [
    {
     "data": {
      "text/plain": [
       "array([8, 1, 3, 9, 5, 7, 2, 3, 8, 0, 3, 2, 0, 5, 5, 8, 6, 9, 5, 9, 5, 5,\n",
       "       1, 1, 2, 9, 9, 6, 0, 3, 2, 8, 6, 0, 5, 1, 3, 0, 4, 6, 4, 6, 4, 6,\n",
       "       7, 0, 5, 0, 5, 0, 1, 1, 7, 7, 3, 3, 8, 5, 7, 1, 9, 8, 0, 3, 6, 7,\n",
       "       1, 1, 3, 4, 4, 3, 6, 2, 3, 1, 6, 7, 9, 9, 3, 4, 0, 1, 9, 8, 5, 6,\n",
       "       9, 0, 4, 0, 6, 4, 7, 6, 9, 3, 8, 1, 7, 5, 4, 4, 1, 7, 7, 6, 1, 8,\n",
       "       1, 4, 8, 4, 0, 9, 4, 4, 6, 1, 8, 1, 4, 2, 1, 1, 4, 5, 8, 7, 4, 9,\n",
       "       5, 3, 7, 4, 0, 3, 6, 7, 0, 3, 8, 3, 1, 6, 0, 2, 8, 6, 8, 7, 9, 5,\n",
       "       5, 8, 9, 7, 0, 2, 7, 2, 1, 7, 4, 1, 0, 5, 7, 7, 9, 0, 2, 8, 9, 1,\n",
       "       9, 9, 8, 3, 0, 4, 6, 3, 8, 4, 1, 1, 9, 3, 3, 9, 7, 1, 9, 5, 9, 9,\n",
       "       5, 6, 7, 7, 8, 0, 9, 2, 9, 4, 1, 9, 1, 9, 5, 7, 5, 1, 2, 7, 1, 0,\n",
       "       8, 1, 5, 2, 6, 6, 4, 5, 8, 4, 7, 3, 2, 4, 7, 4, 5, 0, 9, 1, 8, 8,\n",
       "       7, 2, 6, 4, 0, 2, 0, 6, 5, 5, 4, 4, 3, 4, 5, 3, 3, 8, 4, 8, 6, 2,\n",
       "       1, 9, 4, 8, 1, 5, 1, 9, 9, 8, 2, 0, 9, 3, 6, 4, 5, 8, 4, 1, 4, 4,\n",
       "       8, 9, 4, 6, 7, 8, 1, 0, 8, 7, 8, 0, 7, 9, 3, 4, 8, 0, 8, 9, 9, 4,\n",
       "       3, 5, 9, 5, 6, 1, 3, 2, 5, 1, 1, 9, 2, 5, 2, 6, 9, 3, 1, 4, 5, 8,\n",
       "       0, 2, 1, 2, 0, 6, 3, 1, 7, 6, 2, 2, 8, 4, 7, 3, 6, 0, 7, 2, 7, 0,\n",
       "       4, 9, 3, 0, 5, 9, 1, 7])"
      ]
     },
     "execution_count": 19,
     "metadata": {},
     "output_type": "execute_result"
    }
   ],
   "execution_count": 19
  },
  {
   "metadata": {},
   "cell_type": "code",
   "outputs": [],
   "execution_count": null,
   "source": "",
   "id": "5ddf38b436d21d00"
  },
  {
   "metadata": {
    "ExecuteTime": {
     "end_time": "2025-10-07T11:42:38.030318Z",
     "start_time": "2025-10-07T11:42:38.025503Z"
    }
   },
   "cell_type": "code",
   "source": "sum((predict == y_test) / len(y_test))",
   "id": "7b2762c1ef66153b",
   "outputs": [
    {
     "data": {
      "text/plain": [
       "np.float64(0.9749999999999971)"
      ]
     },
     "execution_count": 20,
     "metadata": {},
     "output_type": "execute_result"
    }
   ],
   "execution_count": 20
  }
 ],
 "metadata": {
  "kernelspec": {
   "display_name": "Python 3",
   "language": "python",
   "name": "python3"
  },
  "language_info": {
   "codemirror_mode": {
    "name": "ipython",
    "version": 2
   },
   "file_extension": ".py",
   "mimetype": "text/x-python",
   "name": "python",
   "nbconvert_exporter": "python",
   "pygments_lexer": "ipython2",
   "version": "2.7.6"
  }
 },
 "nbformat": 4,
 "nbformat_minor": 5
}
