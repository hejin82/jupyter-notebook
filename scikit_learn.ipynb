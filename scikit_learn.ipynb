{
 "cells": [
  {
   "cell_type": "code",
   "id": "initial_id",
   "metadata": {
    "collapsed": true,
    "ExecuteTime": {
     "end_time": "2025-10-07T11:08:14.475018Z",
     "start_time": "2025-10-07T11:08:14.472655Z"
    }
   },
   "source": [
    "import numpy as np\n",
    "import matplotlib.pyplot as plt\n",
    "from sklearn import datasets\n",
    "\n"
   ],
   "outputs": [],
   "execution_count": 14
  },
  {
   "metadata": {
    "ExecuteTime": {
     "end_time": "2025-10-07T10:56:24.080346Z",
     "start_time": "2025-10-07T10:56:24.076169Z"
    }
   },
   "cell_type": "code",
   "source": [
    "iris = datasets.load_iris()\n",
    "x = iris.data\n",
    "y = iris.target"
   ],
   "id": "673328111f006ebe",
   "outputs": [],
   "execution_count": 4
  },
  {
   "metadata": {
    "ExecuteTime": {
     "end_time": "2025-10-07T10:56:46.292206Z",
     "start_time": "2025-10-07T10:56:46.287075Z"
    }
   },
   "cell_type": "code",
   "source": "x.shape",
   "id": "6c7003dc6c7872ff",
   "outputs": [
    {
     "data": {
      "text/plain": [
       "(150, 4)"
      ]
     },
     "execution_count": 6,
     "metadata": {},
     "output_type": "execute_result"
    }
   ],
   "execution_count": 6
  },
  {
   "metadata": {
    "ExecuteTime": {
     "end_time": "2025-10-07T10:57:30.702311Z",
     "start_time": "2025-10-07T10:57:30.697865Z"
    }
   },
   "cell_type": "code",
   "source": "y.shape",
   "id": "3b0bdf5e2715ce84",
   "outputs": [
    {
     "data": {
      "text/plain": [
       "(150,)"
      ]
     },
     "execution_count": 8,
     "metadata": {},
     "output_type": "execute_result"
    }
   ],
   "execution_count": 8
  },
  {
   "metadata": {
    "ExecuteTime": {
     "end_time": "2025-10-07T11:03:16.928896Z",
     "start_time": "2025-10-07T11:03:16.922785Z"
    }
   },
   "cell_type": "code",
   "source": [
    "shuffle_indexes = np.random.permutation(len(x))\n",
    "shuffle_indexes"
   ],
   "id": "f9accfb51b1f529a",
   "outputs": [
    {
     "data": {
      "text/plain": [
       "array([ 54, 147, 134, 104,  51,  16,  41, 105,  57,  31, 145,  29,  37,\n",
       "        48,  92, 144,  86,  77,  98, 129,  84, 103,  10, 143,  94, 116,\n",
       "        53,  23,  32,  80, 139,  44, 132,   7, 109, 133,  13,  55,   6,\n",
       "        11, 117, 149,   2, 124,  15,  60, 118,  33,  99,  20,  39,  24,\n",
       "        62,  91,  17,  65,  25,  58,  27, 102,  68,  42, 128, 115, 126,\n",
       "        73,  40,   8,  64,  22,  21, 114, 136, 142,  76,  35, 130,  72,\n",
       "       138,  90,  67,   9, 100,  75,  50,  85,  38,  59, 141,  30,  69,\n",
       "       110,  61,   4,   5, 146, 119, 131, 127,  14,  79,  89,   0,  36,\n",
       "        82,  52,  19,   3, 113,  47,   1, 107, 120, 135,  88,  96,  95,\n",
       "        83,  56,  71,  93, 121, 108, 125,  74,  12,  97,  63, 111, 123,\n",
       "       122,  70, 101, 112, 106, 148,  87,  78,  34,  18,  66,  49,  43,\n",
       "        28,  45, 137,  46, 140,  81,  26])"
      ]
     },
     "execution_count": 11,
     "metadata": {},
     "output_type": "execute_result"
    }
   ],
   "execution_count": 11
  },
  {
   "metadata": {
    "ExecuteTime": {
     "end_time": "2025-10-07T11:07:46.398686Z",
     "start_time": "2025-10-07T11:07:46.395407Z"
    }
   },
   "cell_type": "code",
   "source": [
    "test_ratio = 0.2\n",
    "test_size = int(len(x) * test_ratio)\n",
    "test_indexes = shuffle_indexes[:test_size]\n",
    "train_indexes = shuffle_indexes[test_size:]"
   ],
   "id": "f88e5fc1bd3009bc",
   "outputs": [],
   "execution_count": 13
  },
  {
   "metadata": {
    "ExecuteTime": {
     "end_time": "2025-10-07T11:16:33.557581Z",
     "start_time": "2025-10-07T11:16:33.553771Z"
    }
   },
   "cell_type": "code",
   "source": [
    "x_train = x[train_indexes]\n",
    "y_train = y[train_indexes]\n",
    "x_test = x[test_indexes]\n",
    "y_test = y[test_indexes]\n"
   ],
   "id": "f6e9dd382788faf6",
   "outputs": [],
   "execution_count": 16
  },
  {
   "metadata": {
    "ExecuteTime": {
     "end_time": "2025-10-07T11:19:38.012787Z",
     "start_time": "2025-10-07T11:19:38.004512Z"
    }
   },
   "cell_type": "code",
   "source": [
    "from sklearn.neighbors import KNeighborsClassifier\n",
    "knn = KNeighborsClassifier(n_neighbors=3)\n",
    "knn.fit(x_train, y_train)\n",
    "predict_y = knn.predict(x_test)"
   ],
   "id": "3d4de7089e3b5c11",
   "outputs": [],
   "execution_count": 18
  },
  {
   "metadata": {
    "ExecuteTime": {
     "end_time": "2025-10-07T11:19:46.861410Z",
     "start_time": "2025-10-07T11:19:46.856316Z"
    }
   },
   "cell_type": "code",
   "source": "predict_y",
   "id": "d24a53df0d0403c7",
   "outputs": [
    {
     "data": {
      "text/plain": [
       "array([1, 2, 2, 2, 1, 0, 0, 2, 1, 0, 2, 0, 0, 0, 1, 2, 1, 1, 1, 2, 1, 2,\n",
       "       0, 2, 1, 2, 1, 0, 0, 1])"
      ]
     },
     "execution_count": 20,
     "metadata": {},
     "output_type": "execute_result"
    }
   ],
   "execution_count": 20
  },
  {
   "metadata": {
    "ExecuteTime": {
     "end_time": "2025-10-07T11:20:56.003567Z",
     "start_time": "2025-10-07T11:20:55.998790Z"
    }
   },
   "cell_type": "code",
   "source": "y_test",
   "id": "73fb531665092c0f",
   "outputs": [
    {
     "data": {
      "text/plain": [
       "array([1, 2, 2, 2, 1, 0, 0, 2, 1, 0, 2, 0, 0, 0, 1, 2, 1, 1, 1, 2, 1, 2,\n",
       "       0, 2, 1, 2, 1, 0, 0, 1])"
      ]
     },
     "execution_count": 22,
     "metadata": {},
     "output_type": "execute_result"
    }
   ],
   "execution_count": 22
  },
  {
   "metadata": {
    "ExecuteTime": {
     "end_time": "2025-10-07T11:23:18.605396Z",
     "start_time": "2025-10-07T11:23:18.600373Z"
    }
   },
   "cell_type": "code",
   "source": "sum(predict_y == y_test)",
   "id": "48ed0248404bedd4",
   "outputs": [
    {
     "data": {
      "text/plain": [
       "np.int64(30)"
      ]
     },
     "execution_count": 24,
     "metadata": {},
     "output_type": "execute_result"
    }
   ],
   "execution_count": 24
  },
  {
   "metadata": {
    "ExecuteTime": {
     "end_time": "2025-10-07T11:25:24.521035Z",
     "start_time": "2025-10-07T11:25:24.517343Z"
    }
   },
   "cell_type": "code",
   "source": [
    "from sklearn.model_selection import train_test_split\n",
    "x_train1, x_test1, y_train1, y_test1 = train_test_split(x, y, test_size=0.2)"
   ],
   "id": "820477828ce802ea",
   "outputs": [],
   "execution_count": 26
  },
  {
   "metadata": {},
   "cell_type": "code",
   "outputs": [],
   "execution_count": null,
   "source": "",
   "id": "15db817b6607d7c5"
  }
 ],
 "metadata": {
  "kernelspec": {
   "display_name": "Python 3",
   "language": "python",
   "name": "python3"
  },
  "language_info": {
   "codemirror_mode": {
    "name": "ipython",
    "version": 2
   },
   "file_extension": ".py",
   "mimetype": "text/x-python",
   "name": "python",
   "nbconvert_exporter": "python",
   "pygments_lexer": "ipython2",
   "version": "2.7.6"
  }
 },
 "nbformat": 4,
 "nbformat_minor": 5
}
